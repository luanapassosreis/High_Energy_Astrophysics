{
 "cells": [
  {
   "cell_type": "markdown",
   "id": "abb5b871-5ed2-4503-a378-5878d403bc3b",
   "metadata": {},
   "source": [
    "## Observation Planning for proposals \n",
    "\n",
    "In this notebook we address the issue that our previous time estimation was done for the complete LST sub-array, whereas you are preparing a proposal for the LST-1. Consequently, the observation time must be scaled. "
   ]
  },
  {
   "cell_type": "code",
   "execution_count": 1,
   "id": "4ec915c5-5c80-4a15-bb81-227dfd5a777a",
   "metadata": {},
   "outputs": [],
   "source": [
    "#First import some useful packages:\n",
    "import numpy as np\n",
    "import matplotlib.pyplot as plt\n",
    "import astropy.units as u\n",
    "from astropy.coordinates import SkyCoord\n",
    "from astropy.io import fits\n",
    "from gammapy.irf import load_irf_dict_from_file\n",
    "\n",
    "%matplotlib inline"
   ]
  },
  {
   "cell_type": "code",
   "execution_count": 2,
   "id": "2978e11f-53c1-4c3c-a49c-eb28dd382f4a",
   "metadata": {},
   "outputs": [
    {
     "name": "stdout",
     "output_type": "stream",
     "text": [
      "Filename: dl3_LST-1.Run07253.fits\n",
      "No.    Name      Ver    Type      Cards   Dimensions   Format\n",
      "  0  PRIMARY       1 PrimaryHDU       4   ()      \n",
      "  1  EVENTS        1 BinTableHDU     76   1687376R x 11C   [K, D, D, D, D, D, K, D, D, D, D]   \n",
      "  2  GTI           1 BinTableHDU     29   1R x 2C   [D, D]   \n",
      "  3  POINTING      1 BinTableHDU     44   1R x 5C   [D, D, D, D, D]   \n",
      "  4  EFFECTIVE AREA    1 BinTableHDU     46   1R x 5C   [25D, 25D, D, D, 25D]   \n",
      "  5  ENERGY DISPERSION    1 BinTableHDU     52   1R x 7C   [25D, 25D, 30D, 30D, D, D, 750D]   \n",
      "  6  GH_CUTS       1 BinTableHDU     35   25R x 5C   [D, D, D, K, D]   \n",
      "  7  RAD_MAX       1 BinTableHDU     49   1R x 5C   [25D, 25D, D, D, 25D]   \n"
     ]
    }
   ],
   "source": [
    "hdul = fits.open(\"dl3_LST-1.Run07253.fits\")\n",
    "hdul.info()"
   ]
  },
  {
   "cell_type": "code",
   "execution_count": 3,
   "id": "d3354045-021a-439c-b888-a9d19423f90c",
   "metadata": {},
   "outputs": [
    {
     "data": {
      "text/plain": [
       "ColDefs(\n",
       "    name = 'EVENT_ID'; format = 'K'\n",
       "    name = 'TIME'; format = 'D'; unit = 's'\n",
       "    name = 'RA'; format = 'D'; unit = 'deg'\n",
       "    name = 'DEC'; format = 'D'; unit = 'deg'\n",
       "    name = 'ENERGY'; format = 'D'; unit = 'TeV'\n",
       "    name = 'GAMMANESS'; format = 'D'\n",
       "    name = 'MULTIP'; format = 'K'\n",
       "    name = 'GLON'; format = 'D'; unit = 'deg'\n",
       "    name = 'GLAT'; format = 'D'; unit = 'deg'\n",
       "    name = 'ALT'; format = 'D'; unit = 'deg'\n",
       "    name = 'AZ'; format = 'D'; unit = 'deg'\n",
       ")"
      ]
     },
     "execution_count": 3,
     "metadata": {},
     "output_type": "execute_result"
    }
   ],
   "source": [
    "#Let's look at what information is stored in table 1 for each run\n",
    "hdul[1].columns"
   ]
  },
  {
   "cell_type": "code",
   "execution_count": 4,
   "id": "25475191-549a-40bf-b04a-99ab184910f9",
   "metadata": {},
   "outputs": [
    {
     "name": "stdout",
     "output_type": "stream",
     "text": [
      "run duration =  1206.131816163659 s or  20.102196936060984 min\n"
     ]
    }
   ],
   "source": [
    "run_duration = (max(hdul[1].data[\"TIME\"]) - min(hdul[1].data[\"TIME\"]))\n",
    "print(\"run duration = \",run_duration,\"s or \",run_duration/60.,\"min\")"
   ]
  },
  {
   "cell_type": "code",
   "execution_count": 5,
   "id": "7cffeaa3-cc5e-4830-bd60-72565eb9fddd",
   "metadata": {},
   "outputs": [
    {
     "data": {
      "text/plain": [
       "ColDefs(\n",
       "    name = 'TIME'; format = 'D'; unit = 's'\n",
       "    name = 'RA_PNT'; format = 'D'; unit = 'deg'\n",
       "    name = 'DEC_PNT'; format = 'D'; unit = 'deg'\n",
       "    name = 'ALT_PNT'; format = 'D'; unit = 'deg'\n",
       "    name = 'AZ_PNT'; format = 'D'; unit = 'deg'\n",
       ")"
      ]
     },
     "execution_count": 5,
     "metadata": {},
     "output_type": "execute_result"
    }
   ],
   "source": [
    "#Pointing direction is stored in table 3\n",
    "hdul[3].columns"
   ]
  },
  {
   "cell_type": "code",
   "execution_count": 6,
   "id": "8cf377ab-8798-4282-b771-8c1ab7ef93c3",
   "metadata": {},
   "outputs": [
    {
     "name": "stdout",
     "output_type": "stream",
     "text": [
      "Pointing at zenith angle 11.491606939853966 towards <SkyCoord (ICRS): (ra, dec) in deg\n",
      "    [(83.97954812, 22.25321998)]>\n"
     ]
    }
   ],
   "source": [
    "zenith = 90. - hdul[3].data['ALT_PNT'][0]\n",
    "src = SkyCoord(hdul[3].data['RA_PNT']*u.deg,hdul[3].data['DEC_PNT']*u.deg,frame='icrs')\n",
    "print(\"Pointing at zenith angle\",zenith,\"towards\",src)"
   ]
  },
  {
   "cell_type": "markdown",
   "id": "b375334b-7b98-4e6a-af4b-d63e0108a3e5",
   "metadata": {},
   "source": [
    "This looks suspiciously close to the Crab nebula. Let's find out what the wobble offset of this pointing position from the position of the Crab. "
   ]
  },
  {
   "cell_type": "code",
   "execution_count": 7,
   "id": "2be0f353-b292-42c2-901d-c7ce29760297",
   "metadata": {},
   "outputs": [
    {
     "name": "stdout",
     "output_type": "stream",
     "text": [
      "Pointing offset: 0.4031 deg\n"
     ]
    }
   ],
   "source": [
    "crab = SkyCoord.from_name('Crab')\n",
    "\n",
    "print(\"Pointing offset: %.4f deg\"%src.separation(crab)[0].value)"
   ]
  },
  {
   "cell_type": "code",
   "execution_count": 8,
   "id": "3db85dfc-8a8b-470c-98b4-d36fa0b53805",
   "metadata": {},
   "outputs": [
    {
     "data": {
      "text/plain": [
       "ColDefs(\n",
       "    name = 'ENERG_LO'; format = '25D'; unit = 'TeV'; dim = '(25)'\n",
       "    name = 'ENERG_HI'; format = '25D'; unit = 'TeV'; dim = '(25)'\n",
       "    name = 'THETA_LO'; format = 'D'; unit = 'deg'; dim = '(1)'\n",
       "    name = 'THETA_HI'; format = 'D'; unit = 'deg'; dim = '(1)'\n",
       "    name = 'EFFAREA'; format = '25D'; unit = 'm2'; dim = '(25,1)'\n",
       ")"
      ]
     },
     "execution_count": 8,
     "metadata": {},
     "output_type": "execute_result"
    }
   ],
   "source": [
    "#Effective area information is stored in table 4\n",
    "hdul[4].columns"
   ]
  },
  {
   "cell_type": "code",
   "execution_count": 9,
   "id": "7efc9006-b469-4f17-add5-6b055d58ded9",
   "metadata": {},
   "outputs": [],
   "source": [
    "en = 0.5*(hdul[4].data[\"ENERG_HI\"] - hdul[4].data[\"ENERG_LO\"])[0]"
   ]
  },
  {
   "cell_type": "code",
   "execution_count": 10,
   "id": "ec81d01d-7a74-4411-9505-fad22e59ff47",
   "metadata": {},
   "outputs": [
    {
     "data": {
      "image/png": "[encoded data removed]",
      "text/plain": [
       "<Figure size 640x480 with 1 Axes>"
      ]
     },
     "metadata": {},
     "output_type": "display_data"
    }
   ],
   "source": [
    "plt.plot(en,hdul[4].data['EFFAREA'][0][0],label=\"LST-1, run07253\")\n",
    "plt.semilogy()\n",
    "plt.semilogx()\n",
    "plt.xlabel(\"Energy (TeV)\")\n",
    "plt.ylabel(\"Effective Area (m$^2$)\")\n",
    "plt.legend()\n",
    "\n",
    "None"
   ]
  },
  {
   "cell_type": "code",
   "execution_count": 12,
   "id": "a56e99e0-5e3f-485b-9bdf-cf33e23b8128",
   "metadata": {},
   "outputs": [],
   "source": [
    "#Extract the FITS files and give the path to where they are located for you: \n",
    "filepath = \"cta-prod5-zenodo-fitsonly-v0.1/fits/\"\n",
    "\n",
    "filename = \"CTA-Performance-prod5-v0.1-North-LSTSubArray-20deg.FITS/Prod5-North-20deg-AverageAz-4LSTs.1800s-v0.1.fits\"\n",
    "\n",
    "# IRFs = load_irf_dict_from_file(filepath+filename)\n",
    "hdul30min = fits.open(filepath+filename)"
   ]
  },
  {
   "cell_type": "code",
   "execution_count": 13,
   "id": "ff2f2709-5cb0-4c67-9826-9782b100a5f2",
   "metadata": {},
   "outputs": [
    {
     "data": {
      "text/plain": [
       "ColDefs(\n",
       "    name = 'ENERG_LO'; format = '42E'; unit = 'TeV'\n",
       "    name = 'ENERG_HI'; format = '42E'; unit = 'TeV'\n",
       "    name = 'THETA_LO'; format = '6E'; unit = 'deg'\n",
       "    name = 'THETA_HI'; format = '6E'; unit = 'deg'\n",
       "    name = 'EFFAREA'; format = '252E'; unit = 'm**2'; dim = '(42,6)'\n",
       ")"
      ]
     },
     "execution_count": 13,
     "metadata": {},
     "output_type": "execute_result"
    }
   ],
   "source": [
    "hdul30min[1].columns"
   ]
  },
  {
   "cell_type": "code",
   "execution_count": 14,
   "id": "154e6326-6b40-4736-a532-ca86e3881f46",
   "metadata": {},
   "outputs": [],
   "source": [
    "en_30min = 0.5*(hdul30min[1].data[\"ENERG_HI\"] - hdul30min[1].data[\"ENERG_LO\"])[0]"
   ]
  },
  {
   "cell_type": "code",
   "execution_count": 15,
   "id": "8f55c5e2-f290-49b2-a6c0-3bafa2a56bad",
   "metadata": {},
   "outputs": [
    {
     "name": "stdout",
     "output_type": "stream",
     "text": [
      "[1. 2. 3. 4. 5. 6.]\n"
     ]
    }
   ],
   "source": [
    "#Check entries first to find the closest value we should search for using \"where\"\n",
    "print(hdul30min[1].data[\"THETA_HI\"][0])"
   ]
  },
  {
   "cell_type": "code",
   "execution_count": 16,
   "id": "597c080d-a9c5-47d1-9f27-ccc53755f5cb",
   "metadata": {},
   "outputs": [],
   "source": [
    "#Find indices of closest value\n",
    "ind_lo = np.where(hdul30min[1].data[\"THETA_LO\"][0]==0.0)[0][0]\n",
    "ind_hi = np.where(hdul30min[1].data[\"THETA_HI\"][0]==1.)[0][0]\n",
    "# print(ind_lo,ind_hi)"
   ]
  },
  {
   "cell_type": "code",
   "execution_count": 17,
   "id": "f7c107b5-acc0-4ed0-b678-aaef7530e2d0",
   "metadata": {},
   "outputs": [
    {
     "name": "stdout",
     "output_type": "stream",
     "text": [
      "0.6700732312020329\n"
     ]
    }
   ],
   "source": [
    "time_ratio = run_duration / (60.*30.)\n",
    "print(time_ratio)"
   ]
  },
  {
   "cell_type": "code",
   "execution_count": 18,
   "id": "d9cd4cb2-b48f-4c24-8303-a71b629ecea4",
   "metadata": {},
   "outputs": [
    {
     "data": {
      "image/png": "[encoded data removed]",
      "text/plain": [
       "<Figure size 640x480 with 1 Axes>"
      ]
     },
     "metadata": {},
     "output_type": "display_data"
    }
   ],
   "source": [
    "plt.plot(en_30min,hdul30min[1].data['EFFAREA'][ind_lo][ind_hi],\"r\",label=\"4xLST sub-array (30 min MC)\")\n",
    "plt.plot(en_30min,time_ratio*hdul30min[1].data['EFFAREA'][ind_lo][ind_hi],\"r--\",label=\"4xLST scaled(~20 min MC)\")\n",
    "plt.plot(en,hdul[4].data['EFFAREA'][0][0],\"k\",label=\"LST-1, run07253 (~20 min data)\")\n",
    "\n",
    "plt.semilogx()\n",
    "plt.semilogy()\n",
    "\n",
    "plt.xlabel(\"Energy (TeV)\")\n",
    "plt.ylabel(\"Effective Area (m$^2$)\")\n",
    "plt.legend()\n",
    "plt.xlim(1.5e-3,20.)\n",
    "\n",
    "\n",
    "None"
   ]
  },
  {
   "cell_type": "markdown",
   "id": "49934124-b208-447e-b3a9-966db177f6dc",
   "metadata": {},
   "source": [
    "Now let's consider a simple relation for flux normalisation at e.g. 1 TeV, in units of $cm^{-2}s^{-1}$.\n",
    "\n",
    "Let $\\phi_1$ be the flux measured by one LST and $\\phi_4$ the flux measured by the four LST sub-array. \n",
    "\n",
    "A detection sensitivity corresponding to a specific flux value can be reached within a certain time $t$ with a certain effective area $A$.\n",
    "Then, in order to reach a sensitivity $\\phi_1=\\phi_4$ we have that $A_1t_1=A_4t_4$ or $t_1=\\frac{A_4}{A_1}t_4$. \n",
    "\n",
    "Therefore, by comparing Aeff curves corresponding to the same exposure (20 min) at ~similar zenith angles, the ratio of the effective areas gives us a good approximation for the amount by which the observing time should be increased. \n",
    "\n",
    "The simplest approach here is now to choose to evaluate this at a specific energy of interest, interpolating the effective area curves from the MC for the sub-array (scaled) and from the data. "
   ]
  },
  {
   "cell_type": "code",
   "execution_count": 19,
   "id": "9f3ef8f4-3e02-48b2-9be1-ea44c6869a6c",
   "metadata": {},
   "outputs": [],
   "source": [
    "from scipy.interpolate import interp1d"
   ]
  },
  {
   "cell_type": "code",
   "execution_count": 20,
   "id": "56222894-1a86-4121-8c99-e848c7c9722f",
   "metadata": {},
   "outputs": [],
   "source": [
    "lst1 = interp1d(en,hdul[4].data['EFFAREA'][0][0])\n",
    "lst4_scaled = interp1d(en_30min,time_ratio*hdul30min[1].data['EFFAREA'][ind_lo][ind_hi])"
   ]
  },
  {
   "cell_type": "code",
   "execution_count": 21,
   "id": "32c29c25-2253-48d8-bc92-1c91834e01b6",
   "metadata": {},
   "outputs": [
    {
     "name": "stdout",
     "output_type": "stream",
     "text": [
      "At 1 TeV, need to increase exposure by a factor ~1.1721\n",
      "At 0.2 TeV, need to increase exposure by a factor ~1.4267\n"
     ]
    }
   ],
   "source": [
    "#1 TeV\n",
    "print(\"At 1 TeV, need to increase exposure by a factor ~%.4f\"%(lst4_scaled(1.0)/lst1(1.0)))\n",
    "print(\"At 0.2 TeV, need to increase exposure by a factor ~%.4f\"%(lst4_scaled(0.2)/lst1(0.2)))"
   ]
  },
  {
   "cell_type": "code",
   "execution_count": null,
   "id": "d2e4f331-3bfa-40f7-9495-69af4bb755de",
   "metadata": {},
   "outputs": [],
   "source": []
  },
  {
   "cell_type": "code",
   "execution_count": null,
   "id": "31e18000-1117-4593-a4d1-d4ae84883df9",
   "metadata": {},
   "outputs": [],
   "source": []
  },
  {
   "cell_type": "code",
   "execution_count": null,
   "id": "29f9c8c8-e162-4fe2-aa15-695c938f2218",
   "metadata": {},
   "outputs": [],
   "source": []
  },
  {
   "cell_type": "code",
   "execution_count": null,
   "id": "ba93acb5-bee1-44f1-b609-612f222d9702",
   "metadata": {},
   "outputs": [],
   "source": []
  },
  {
   "cell_type": "code",
   "execution_count": null,
   "id": "6ba84b9a-c5ef-485d-a6ee-38db61619d05",
   "metadata": {},
   "outputs": [],
   "source": []
  },
  {
   "cell_type": "code",
   "execution_count": null,
   "id": "f71fc32a-0f07-481b-94d4-cb108cb2ab3e",
   "metadata": {},
   "outputs": [],
   "source": []
  }
 ],
 "metadata": {
  "kernelspec": {
   "display_name": "Python 3 (ipykernel)",
   "language": "python",
   "name": "python3"
  },
  "language_info": {
   "codemirror_mode": {
    "name": "ipython",
    "version": 3
   },
   "file_extension": ".py",
   "mimetype": "text/x-python",
   "name": "python",
   "nbconvert_exporter": "python",
   "pygments_lexer": "ipython3",
   "version": "3.9.7"
  }
 },
 "nbformat": 4,
 "nbformat_minor": 5
}
