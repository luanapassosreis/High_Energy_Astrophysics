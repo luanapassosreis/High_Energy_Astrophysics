{
 "cells": [
  {
   "cell_type": "markdown",
   "id": "88e65f38-949d-49ea-846f-a9b38b92b0c2",
   "metadata": {},
   "source": [
    "# 3D analysis open problem"
   ]
  },
  {
   "cell_type": "markdown",
   "id": "d63bdc86-706d-4cc8-b351-872274b1d2be",
   "metadata": {},
   "source": [
    "1) Proceed with the basic imports from the 3D analysis notebook:"
   ]
  },
  {
   "cell_type": "code",
   "execution_count": 1,
   "id": "4a83cfaa-678c-4995-9fe3-665fc591cb59",
   "metadata": {},
   "outputs": [],
   "source": [
    "import matplotlib.pyplot as plt\n",
    "\n",
    "from pathlib import Path\n",
    "import numpy as np\n",
    "from astropy.table import Table\n",
    "import astropy.units as u\n",
    "from astropy.coordinates import SkyCoord\n",
    "from regions import CircleSkyRegion\n",
    "\n",
    "from gammapy.catalog import SourceCatalogGammaCat\n",
    "from gammapy.datasets import MapDataset, Datasets\n",
    "from gammapy.data import (\n",
    "    DataStore,\n",
    "    Observation,\n",
    "    Observations,\n",
    ")\n",
    "from gammapy.estimators import ExcessMapEstimator, TSMapEstimator\n",
    "from gammapy.estimators.utils import find_peaks, find_peaks_in_flux_map\n",
    "from gammapy.makers import (\n",
    "    MapDatasetMaker, \n",
    "    SafeMaskMaker, \n",
    "    FoVBackgroundMaker\n",
    ")\n",
    "from gammapy.maps import MapAxis, WcsGeom\n",
    "from gammapy.modeling import Fit\n",
    "from gammapy.modeling.models import (\n",
    "    ExpCutoffPowerLawSpectralModel,\n",
    "    FoVBackgroundModel,\n",
    "    GaussianSpatialModel,\n",
    "    PointSpatialModel,\n",
    "    PowerLawSpectralModel,\n",
    "    SkyModel,\n",
    "    Model,\n",
    "    Models,\n",
    ")"
   ]
  },
  {
   "cell_type": "markdown",
   "id": "c631a812-b09a-4314-ab0d-bc90b9cee3b3",
   "metadata": {},
   "source": [
    "Silence some warnings that may affect your outputs:"
   ]
  },
  {
   "cell_type": "code",
   "execution_count": 2,
   "id": "373a7417-69e1-450e-a29e-201dec5e17d9",
   "metadata": {},
   "outputs": [],
   "source": [
    "# to silence the warnings\n",
    "import warnings\n",
    "warnings.filterwarnings('ignore', category=RuntimeWarning, append=True)"
   ]
  },
  {
   "cell_type": "markdown",
   "id": "9b676245-76f3-44d8-8c13-8112159be570",
   "metadata": {},
   "source": [
    "2) Import the index files with the `DataStore` class from the directory with the `from_dir` function. "
   ]
  },
  {
   "cell_type": "code",
   "execution_count": 5,
   "id": "719b61f6-7563-47b0-a3ed-c891acd5c0e3",
   "metadata": {},
   "outputs": [
    {
     "ename": "SyntaxError",
     "evalue": "invalid syntax (1257863425.py, line 1)",
     "output_type": "error",
     "traceback": [
      "\u001b[0;36m  Cell \u001b[0;32mIn[5], line 1\u001b[0;36m\u001b[0m\n\u001b[0;31m    data_store =\u001b[0m\n\u001b[0m                 ^\u001b[0m\n\u001b[0;31mSyntaxError\u001b[0m\u001b[0;31m:\u001b[0m invalid syntax\n"
     ]
    }
   ],
   "source": [
    "data_store = "
   ]
  },
  {
   "cell_type": "code",
   "execution_count": null,
   "id": "74fcbcf9-5cc2-43ed-921a-6ff21b5abced",
   "metadata": {},
   "outputs": [],
   "source": []
  },
  {
   "cell_type": "code",
   "execution_count": null,
   "id": "9df81594-4adc-4a00-8a49-d5ac554f34bd",
   "metadata": {},
   "outputs": [],
   "source": []
  },
  {
   "cell_type": "markdown",
   "id": "6be15b82-bbd7-4667-b8ed-1e3b63e29351",
   "metadata": {},
   "source": [
    "3) Search around the Galactic coordinates l,b = 341.90669676°, -3.62457011°, and create the astropy `SkyCoord` object:"
   ]
  },
  {
   "cell_type": "code",
   "execution_count": 5,
   "id": "9fe3b969-12d1-41c2-b126-8bb5b05d1933",
   "metadata": {},
   "outputs": [],
   "source": [
    "#source coordinates\n",
    "pointing = "
   ]
  },
  {
   "cell_type": "markdown",
   "id": "f02bc360-1e97-47a6-bf11-5c375afa2e99",
   "metadata": {},
   "source": [
    "4) Create the dictionary for the observation selection as in the 3D analysis notebook, and pick them with the `select_observation` function of `DataStore`:"
   ]
  },
  {
   "cell_type": "code",
   "execution_count": 6,
   "id": "dc72e962-dc35-4b96-a110-5b4e4cfd712c",
   "metadata": {},
   "outputs": [],
   "source": [
    "selection = dict(\n",
    "    \n",
    ")\n",
    "selected_obs_table = data_store."
   ]
  },
  {
   "cell_type": "markdown",
   "id": "96d1c65b-9c7d-4733-85ee-f525a1e6bf16",
   "metadata": {},
   "source": [
    "5) Take them with the `get_observations` function:"
   ]
  },
  {
   "cell_type": "code",
   "execution_count": 2,
   "id": "c1d01c19-d1d3-441b-8473-2a3e62d419ce",
   "metadata": {},
   "outputs": [],
   "source": [
    "observations = data_store.\n",
    "len(observations)"
   ]
  },
  {
   "cell_type": "markdown",
   "id": "a8ce261c-e36b-40f5-8624-02b617e066c0",
   "metadata": {},
   "source": [
    "6) Define the reconstructed and true energy axes (with `MapAxis`) and the geometry (with `WcsGeom.create`), as in the 3D analysis notebook:"
   ]
  },
  {
   "cell_type": "code",
   "execution_count": 9,
   "id": "bb97f4ec-dec8-4a0d-91a3-e58770a25254",
   "metadata": {},
   "outputs": [],
   "source": [
    "# Reduced IRFs are defined in true energy (i.e. not measured energy).\n",
    "energy_axis_true = \n",
    "\n",
    "energy_axis = \n",
    "\n",
    "geom = "
   ]
  },
  {
   "cell_type": "markdown",
   "id": "b6ddef6c-3821-4b42-bd03-bd7620ac8bbd",
   "metadata": {},
   "source": [
    "7) Create the MapDataset:"
   ]
  },
  {
   "cell_type": "code",
   "execution_count": null,
   "id": "868cd41b-3424-4a98-b5bf-34b1fcd28160",
   "metadata": {},
   "outputs": [],
   "source": [
    "stacked = "
   ]
  },
  {
   "cell_type": "markdown",
   "id": "df9dd45e-63df-4a72-8427-383bd5c7c51f",
   "metadata": {},
   "source": [
    "8) Create the exclusion masks as in the 3D analysis notebook:"
   ]
  },
  {
   "cell_type": "code",
   "execution_count": 10,
   "id": "72015f7f-d70f-4267-b736-23d6b3db4238",
   "metadata": {},
   "outputs": [],
   "source": [
    "exclusion_src1 = \n",
    "\n",
    "exclusion_src2 = \n",
    "\n",
    "exclusion_src3 = \n",
    "\n",
    "exclusion_src4 = \n",
    "\n",
    "exclusion_src5 = \n",
    "\n",
    "exclusion_src6 = \n",
    "\n",
    "exclusion_geom = WcsGeom....\n",
    ")\n",
    "\n",
    "exclusion_mask = \n",
    "\n",
    "exclusion_mask.plot()\n",
    "plt.show()"
   ]
  },
  {
   "cell_type": "markdown",
   "id": "a0df26d2-da5b-49af-a651-82918a9e7aaf",
   "metadata": {},
   "source": [
    "9) Set the safe ranges with `MapDatasetMaker`, `SafeMaksMaker` and `FoVBackgroundMaker`:"
   ]
  },
  {
   "cell_type": "code",
   "execution_count": 12,
   "id": "09cfc4eb-3259-400a-953a-89797373c82f",
   "metadata": {},
   "outputs": [],
   "source": [
    "offset_max =\n",
    "maker = \n",
    "maker_safe_mask = \n",
    "\n",
    "\n",
    "maker_fov = "
   ]
  },
  {
   "cell_type": "markdown",
   "id": "4ee4edad-f58b-450d-8f97-084a5152ce9f",
   "metadata": {},
   "source": [
    "10) Loop over the observations to stack the datasets:"
   ]
  },
  {
   "cell_type": "code",
   "execution_count": 3,
   "id": "70814447-9e94-487f-b7ed-59c9d4de48e3",
   "metadata": {},
   "outputs": [],
   "source": [
    "for i, obs in enumerate(observations):\n",
    "    # First a cutout of the target map is produced\n",
    "    cutout = \n",
    "    \n",
    "    # A MapDataset is filled in this cutout geometry\n",
    "    dataset = \n",
    "    \n",
    "    # The data quality cut is applied\n",
    "    dataset = \n",
    "    \n",
    "    # fit background model\n",
    "    dataset = \n",
    "    print(\n",
    "        f\"{i} of {len(observations)}, Background norm obs {obs.obs_id}: {dataset.background_model.spectral_model.norm.value:.2f}\"\n",
    "    )\n",
    "    # The resulting dataset cutout is stacked onto the final one\n",
    "    stacked.stack...\n",
    "\n",
    "print(stacked)"
   ]
  },
  {
   "cell_type": "markdown",
   "id": "3225dfca-4efb-4979-adf2-08942108bbf1",
   "metadata": {},
   "source": [
    "11) Check if the sky-map is correct by plotting it:"
   ]
  },
  {
   "cell_type": "code",
   "execution_count": 4,
   "id": "c554cdc5-e691-4960-9332-20d5efa5ccad",
   "metadata": {},
   "outputs": [],
   "source": [
    "stacked.peek()"
   ]
  },
  {
   "cell_type": "markdown",
   "id": "f35ed413-9251-456c-91e3-327cbdddf87a",
   "metadata": {},
   "source": [
    "12) Define a spatial and spectral model (with `PointSpatialModel`, `PowerLawSpectralModel` and `SkyModel`) to run the source detection: "
   ]
  },
  {
   "cell_type": "code",
   "execution_count": 15,
   "id": "eb8e9197-b21c-417f-bc40-c31849e2ce80",
   "metadata": {},
   "outputs": [],
   "source": [
    "spatial_model = \n",
    "spectral_model =\n",
    "\n",
    "model = "
   ]
  },
  {
   "cell_type": "markdown",
   "id": "29807539-1747-4240-86a8-2f63e1eafe5f",
   "metadata": {},
   "source": [
    "12) Use the `TSMapEstimator` class to perform the source detection:"
   ]
  },
  {
   "cell_type": "code",
   "execution_count": 16,
   "id": "3f8b7829-79a8-439e-95a4-641ee1744b63",
   "metadata": {},
   "outputs": [],
   "source": [
    "estimator = \n",
    "\n",
    "maps = "
   ]
  },
  {
   "cell_type": "markdown",
   "id": "ad1e7a78-0ea5-48a8-a5ec-c9292f12bf3b",
   "metadata": {},
   "source": [
    "13) Plot the maps of the \"sqrt_ts\" and \"flux\":"
   ]
  },
  {
   "cell_type": "code",
   "execution_count": 15,
   "id": "17fe9d0d-3785-4027-81e7-3bcbd3d451d0",
   "metadata": {},
   "outputs": [],
   "source": [
    "fig, (ax1, ax2, ax3) = plt.subplots(\n",
    "    ncols=3,\n",
    "    figsize=(20, 3),\n",
    "    subplot_kw={\"projection\": stacked.counts.geom.wcs},\n",
    "    gridspec_kw={\"left\": 0.1, \"right\": 0.98},\n",
    ")\n",
    "\n",
    "maps[\"sqrt_ts\"].plot(ax=ax1, add_cbar=True)\n",
    "ax1.set_title(\"Significance map\")\n",
    "maps[\"flux\"].plot(ax=ax2, add_cbar=True, stretch=\"sqrt\", vmin=0)\n",
    "ax2.set_title(\"Flux map\")\n",
    "maps[\"niter\"].plot(ax=ax3, add_cbar=True)\n",
    "ax3.set_title(\"Iteration map\")\n",
    "plt.show()"
   ]
  },
  {
   "cell_type": "markdown",
   "id": "78acdc30-1798-40c3-bcbc-0bd40e55aecc",
   "metadata": {},
   "source": [
    "13) Find the peaks of \"sqrt_ts\" with the function `find_peaks` in `gammapy.estimators.utils`. Sources can be significant with a 5 sigma detection:"
   ]
  },
  {
   "cell_type": "code",
   "execution_count": 5,
   "id": "a452f8e6-c135-4228-8d50-c17173ff9e6d",
   "metadata": {},
   "outputs": [],
   "source": [
    "sources = find_peaks..."
   ]
  },
  {
   "cell_type": "code",
   "execution_count": null,
   "id": "6796227a-bfb6-4a7a-84f6-be3a778fb1d8",
   "metadata": {},
   "outputs": [],
   "source": [
    "14) Make a catalog and then compare it with any catalog you can find in Gammapy:"
   ]
  },
  {
   "cell_type": "markdown",
   "id": "c65f3223-a88e-49fd-887b-21d7835ff56e",
   "metadata": {},
   "source": [
    "15) Plot the maps overplotting the source regions."
   ]
  },
  {
   "cell_type": "markdown",
   "id": "9ea13b2b-1e17-4508-aa4d-51ca22ce8ce9",
   "metadata": {},
   "source": [
    "16) Set the background model with `FoVBackgroundModel`. Set its normalization to 1:"
   ]
  },
  {
   "cell_type": "code",
   "execution_count": 19,
   "id": "4b07e68e-2e9a-4a37-a8e3-b94e7b363f9e",
   "metadata": {},
   "outputs": [],
   "source": [
    "bkg_model = \n",
    "\n",
    "bkg_model.spectral_model.norm.value = 1.0\n",
    "    \n",
    "models_stacked = Models..."
   ]
  },
  {
   "cell_type": "markdown",
   "id": "6c072cfe-c73a-4cbc-aead-43de5f16abba",
   "metadata": {},
   "source": [
    "17) Loop over each source and perform a 3D analysis. Use a simple `PowerLawSpectralModel` and a generic `GaussianSpatialModel` for the spectral and morphological properties (for simplicity, freeze the coordinate parameters):"
   ]
  },
  {
   "cell_type": "code",
   "execution_count": 7,
   "id": "87b991f1-1a44-4fb9-bdc9-08a700d85384",
   "metadata": {},
   "outputs": [],
   "source": [
    "for i, src in enumerate(sources):\n",
    "    print(f\"- Analysis of the source {i+1}...\")\n",
    "\n",
    "    spectral_model = \n",
    "    \n",
    "    spatial_model = \n",
    "\n",
    "    model = \n",
    "\n",
    "    models_stacked.extend(Models([model]))\n",
    "    \n",
    "    stacked.models \n",
    "\n",
    "    stacked.models[-1].parameters[\"lon_0\"].frozen = True\n",
    "    stacked.models[-1].parameters[\"lat_0\"].frozen = True\n",
    "\n",
    "    fit = \n",
    "    result = \n",
    "    print(result)\n",
    "    print(f\"   * Analysis of the source {i+1}... complete!\")"
   ]
  },
  {
   "cell_type": "markdown",
   "id": "a4b88225-dbee-4ae6-9f89-8cedea2172f8",
   "metadata": {},
   "source": [
    "18) Use the class `ExcessMapEstimator` to investigate the excess. If the modelization is suitable, the maps will be flat:"
   ]
  },
  {
   "cell_type": "code",
   "execution_count": 16,
   "id": "37e61126-7838-4983-af1f-6f8f1df69a9f",
   "metadata": {},
   "outputs": [],
   "source": [
    "estimator = ExcessMapEstimator\n",
    "\n",
    "\n",
    "result = \n",
    "\n",
    "result[\"sqrt_ts\"].plot_grid(\n",
    "    figsize=(12, 12), cmap=\"coolwarm\", add_cbar=True, vmin=-5, vmax=5, ncols=2\n",
    ")\n",
    "plt.show()"
   ]
  },
  {
   "cell_type": "code",
   "execution_count": null,
   "id": "446493cc-7420-48af-a22a-160eb7d4e170",
   "metadata": {},
   "outputs": [],
   "source": []
  }
 ],
 "metadata": {
  "kernelspec": {
   "display_name": "Python 3 (ipykernel)",
   "language": "python",
   "name": "python3"
  },
  "language_info": {
   "codemirror_mode": {
    "name": "ipython",
    "version": 3
   },
   "file_extension": ".py",
   "mimetype": "text/x-python",
   "name": "python",
   "nbconvert_exporter": "python",
   "pygments_lexer": "ipython3",
   "version": "3.10.14"
  }
 },
 "nbformat": 4,
 "nbformat_minor": 5
}
