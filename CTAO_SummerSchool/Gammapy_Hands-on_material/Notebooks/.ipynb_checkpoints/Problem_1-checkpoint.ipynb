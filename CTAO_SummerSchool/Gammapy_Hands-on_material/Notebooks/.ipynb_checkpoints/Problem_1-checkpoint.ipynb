{
 "cells": [
  {
   "cell_type": "markdown",
   "id": "0ae63390-8d9b-4047-b73a-e8c157bfafda",
   "metadata": {},
   "source": [
    "# OPEN PROBLEM: Lightcurve analysis"
   ]
  },
  {
   "cell_type": "markdown",
   "id": "7ce2fecc-55b3-40a0-9ada-9c7b6c029169",
   "metadata": {},
   "source": [
    "We select a subsample of observations from the internal CTAO SDC of the source MRK 421. This is a time-varying source and the aim of this tutorial is to build a lightcurve with the available data.\n",
    "\n",
    "1) Let's start with the basic imports:"
   ]
  },
  {
   "cell_type": "code",
   "execution_count": 1,
   "id": "30f6c390-0184-4fa5-877c-2f8fa2253fa6",
   "metadata": {
    "tags": []
   },
   "outputs": [],
   "source": [
    "import matplotlib.pyplot as plt\n",
    "\n",
    "import numpy as np\n",
    "import astropy.units as u\n",
    "from astropy.coordinates import Angle, SkyCoord\n",
    "from astropy.time import Time\n",
    "from regions import CircleSkyRegion\n",
    "from gammapy.data import (\n",
    "    DataStore,\n",
    "    Observation,\n",
    "    Observations,\n",
    ")\n",
    "from gammapy.datasets import MapDataset, Datasets, SpectrumDataset\n",
    "from gammapy.estimators import LightCurveEstimator\n",
    "from gammapy.estimators.utils import get_rebinned_axis\n",
    "from gammapy.makers import (\n",
    "    MapDatasetMaker,\n",
    "    ReflectedRegionsBackgroundMaker,\n",
    "    SafeMaskMaker,\n",
    "    SpectrumDatasetMaker,\n",
    "    FoVBackgroundMaker\n",
    ")\n",
    "from gammapy.maps import MapAxis, WcsGeom, RegionGeom\n",
    "from gammapy.modeling.models import (\n",
    "    Models,\n",
    "    PowerLawSpectralModel,\n",
    "    SkyModel,\n",
    ")"
   ]
  },
  {
   "cell_type": "markdown",
   "id": "1dc321f8-16ae-491e-ae73-31da3641350d",
   "metadata": {},
   "source": [
    "2) Select all the observations from the index flies, using the `DataStore` class, and pick only observations enclosed into a search cone of 5 degrees around the given pointing position:"
   ]
  },
  {
   "cell_type": "code",
   "execution_count": 2,
   "id": "5b4edf27-9ebd-45f9-8f38-933f535e9b78",
   "metadata": {},
   "outputs": [],
   "source": [
    "# DataStore?"
   ]
  },
  {
   "cell_type": "code",
   "execution_count": 3,
   "id": "24083395-76c0-46ea-a756-9299fdb0527e",
   "metadata": {},
   "outputs": [],
   "source": [
    "data_store = DataStore.from_dir(\"../CTA-SDC\")"
   ]
  },
  {
   "cell_type": "code",
   "execution_count": 4,
   "id": "91840442-6a88-4a3f-a8c6-666499ed1974",
   "metadata": {},
   "outputs": [
    {
     "data": {
      "text/html": [
       "<div><i>HDUIndexTable length=36618</i>\n",
       "<table id=\"table4555165312\" class=\"table-striped table-bordered table-condensed\">\n",
       "<thead><tr><th>HDU_TYPE</th><th>HDU_CLASS</th><th>HDU_NAME</th><th>OBS_ID</th><th>FILE_DIR</th><th>FILE_NAME</th></tr></thead>\n",
       "<thead><tr><th>bytes6</th><th>bytes10</th><th>bytes21</th><th>int64</th><th>bytes44</th><th>bytes61</th></tr></thead>\n",
       "<tr><td>aeff</td><td>aeff_2d</td><td>EFFECTIVE AREA</td><td>5000000001</td><td>CALDB/CTA-Performance-prod5-v0.1-North-40deg</td><td>Prod5-North-40deg-AverageAz-4LSTs09MSTs.180000s-v0.1.fits.gz</td></tr>\n",
       "<tr><td>bkg</td><td>bkg_3d</td><td>BACKGROUND</td><td>5000000001</td><td>CALDB/CTA-Performance-prod5-v0.1-North-40deg</td><td>Prod5-North-40deg-AverageAz-4LSTs09MSTs.180000s-v0.1.fits.gz</td></tr>\n",
       "<tr><td>psf</td><td>psf_3gauss</td><td>POINT SPREAD FUNCTION</td><td>5000000001</td><td>CALDB/CTA-Performance-prod5-v0.1-North-40deg</td><td>Prod5-North-40deg-AverageAz-4LSTs09MSTs.180000s-v0.1.fits.gz</td></tr>\n",
       "<tr><td>gti</td><td>gti</td><td>GTI</td><td>5000000001</td><td>products_SDC/Events/North</td><td>events_5000000001.fits</td></tr>\n",
       "<tr><td>events</td><td>events</td><td>EVENTS</td><td>5000000001</td><td>products_SDC/Events/North</td><td>events_5000000001.fits</td></tr>\n",
       "<tr><td>edisp</td><td>edisp_2d</td><td>ENERGY DISPERSION</td><td>5000000001</td><td>CALDB/CTA-Performance-prod5-v0.1-North-40deg</td><td>Prod5-North-40deg-AverageAz-4LSTs09MSTs.180000s-v0.1.fits.gz</td></tr>\n",
       "<tr><td>...</td><td>...</td><td>...</td><td>...</td><td>...</td><td>...</td></tr>\n",
       "<tr><td>bkg</td><td>bkg_3d</td><td>BACKGROUND</td><td>5000006105</td><td>CALDB/CTA-Performance-prod5-v0.1-South-60deg</td><td>Prod5-South-60deg-AverageAz-14MSTs37SSTs.180000s-v0.1.fits.gz</td></tr>\n",
       "<tr><td>aeff</td><td>aeff_2d</td><td>EFFECTIVE AREA</td><td>5000006106</td><td>CALDB/CTA-Performance-prod5-v0.1-South-40deg</td><td>Prod5-South-40deg-AverageAz-14MSTs37SSTs.180000s-v0.1.fits.gz</td></tr>\n",
       "<tr><td>edisp</td><td>edisp_2d</td><td>ENERGY DISPERSION</td><td>5000006106</td><td>CALDB/CTA-Performance-prod5-v0.1-South-40deg</td><td>Prod5-South-40deg-AverageAz-14MSTs37SSTs.180000s-v0.1.fits.gz</td></tr>\n",
       "<tr><td>psf</td><td>psf_3gauss</td><td>POINT SPREAD FUNCTION</td><td>5000006106</td><td>CALDB/CTA-Performance-prod5-v0.1-South-40deg</td><td>Prod5-South-40deg-AverageAz-14MSTs37SSTs.180000s-v0.1.fits.gz</td></tr>\n",
       "<tr><td>bkg</td><td>bkg_3d</td><td>BACKGROUND</td><td>5000006106</td><td>CALDB/CTA-Performance-prod5-v0.1-South-40deg</td><td>Prod5-South-40deg-AverageAz-14MSTs37SSTs.180000s-v0.1.fits.gz</td></tr>\n",
       "<tr><td>gti</td><td>gti</td><td>GTI</td><td>5000006106</td><td>products_SDC/Events/South</td><td>events_5000006106.fits</td></tr>\n",
       "<tr><td>events</td><td>events</td><td>EVENTS</td><td>5000006106</td><td>products_SDC/Events/South</td><td>events_5000006106.fits</td></tr>\n",
       "</table></div>"
      ],
      "text/plain": [
       "<HDUIndexTable length=36618>\n",
       "HDU_TYPE ...                           FILE_NAME                          \n",
       " bytes6  ...                            bytes61                           \n",
       "-------- ... -------------------------------------------------------------\n",
       "    aeff ...  Prod5-North-40deg-AverageAz-4LSTs09MSTs.180000s-v0.1.fits.gz\n",
       "     bkg ...  Prod5-North-40deg-AverageAz-4LSTs09MSTs.180000s-v0.1.fits.gz\n",
       "     psf ...  Prod5-North-40deg-AverageAz-4LSTs09MSTs.180000s-v0.1.fits.gz\n",
       "     gti ...                                        events_5000000001.fits\n",
       "  events ...                                        events_5000000001.fits\n",
       "   edisp ...  Prod5-North-40deg-AverageAz-4LSTs09MSTs.180000s-v0.1.fits.gz\n",
       "     ... ...                                                           ...\n",
       "     bkg ... Prod5-South-60deg-AverageAz-14MSTs37SSTs.180000s-v0.1.fits.gz\n",
       "    aeff ... Prod5-South-40deg-AverageAz-14MSTs37SSTs.180000s-v0.1.fits.gz\n",
       "   edisp ... Prod5-South-40deg-AverageAz-14MSTs37SSTs.180000s-v0.1.fits.gz\n",
       "     psf ... Prod5-South-40deg-AverageAz-14MSTs37SSTs.180000s-v0.1.fits.gz\n",
       "     bkg ... Prod5-South-40deg-AverageAz-14MSTs37SSTs.180000s-v0.1.fits.gz\n",
       "     gti ...                                        events_5000006106.fits\n",
       "  events ...                                        events_5000006106.fits"
      ]
     },
     "execution_count": 4,
     "metadata": {},
     "output_type": "execute_result"
    }
   ],
   "source": [
    "data_store.hdu_table"
   ]
  },
  {
   "cell_type": "markdown",
   "id": "50be48c4-361d-461d-8860-a0bb4afa1e61",
   "metadata": {},
   "source": [
    "3) Define the target position (ra, dec = 166.113808°, 38.2088329°) and the pointing direction (consider an offset of 0.5° with respect to the target position):"
   ]
  },
  {
   "cell_type": "code",
   "execution_count": 5,
   "id": "c8574ff0-e361-4f2e-acf3-9fd8947472d8",
   "metadata": {},
   "outputs": [],
   "source": [
    "#source coordinates\n",
    "target = SkyCoord(\"166.113808 deg\", \"38.2088329 deg\", unit=\"deg\", frame=\"icrs\")\n",
    "\n",
    "#pointing coordinates\n",
    "l, b = 166.163808 * u.deg, 38.7088329 * u.deg \n",
    "pointing = SkyCoord(l, b, frame=\"icrs\")"
   ]
  },
  {
   "cell_type": "markdown",
   "id": "cd39f3bb-d6df-4ceb-9584-2b51f2c8875a",
   "metadata": {},
   "source": [
    "4) Create the dictionary for the observation selection as in the 3D analysis notebook, and pick them with the `select_observation` function of `DataStore`:"
   ]
  },
  {
   "cell_type": "code",
   "execution_count": 6,
   "id": "bb0d4288-df66-4d3d-b5c7-087873186abe",
   "metadata": {},
   "outputs": [],
   "source": [
    "selection = dict(\n",
    "    type=\"sky_circle\",\n",
    "    frame=\"galactic\",\n",
    "    lon=pointing.galactic.l.deg,\n",
    "    lat=pointing.galactic.b.deg,\n",
    "    radius=\"5 deg\",\n",
    ")\n",
    "\n",
    "selected_obs_table = data_store.obs_table.select_observations(selection)"
   ]
  },
  {
   "cell_type": "code",
   "execution_count": 7,
   "id": "1fa80241-ea11-4baf-8a26-f3135b2dc2b0",
   "metadata": {},
   "outputs": [],
   "source": [
    "# selected_obs_table"
   ]
  },
  {
   "cell_type": "markdown",
   "id": "f8e9fc1f-0139-4ce1-b4fb-9110a1a3f886",
   "metadata": {},
   "source": [
    "5) Take a subsample of the first 50 observations.\n",
    "Use them with the `get_observations` function:"
   ]
  },
  {
   "cell_type": "code",
   "execution_count": 8,
   "id": "be9b2257-9a51-4824-8202-7395f0d2cd74",
   "metadata": {},
   "outputs": [],
   "source": [
    "# data_store.get_observations?"
   ]
  },
  {
   "cell_type": "code",
   "execution_count": 9,
   "id": "6516634a-de3a-41c7-a2f6-6c77916641db",
   "metadata": {},
   "outputs": [
    {
     "name": "stdout",
     "output_type": "stream",
     "text": [
      "Selected observations: 50\n",
      "\n",
      "\n",
      "Let's have a look at the first observation \n",
      "\n",
      ": Observation\n",
      "\n",
      "\tobs id            : 5000000063 \n",
      " \ttstart            : 61774.25\n",
      "\ttstop             : 61774.26\n",
      "\tduration          : 445.00 s\n",
      "\tpointing (icrs)   : 166.1 deg, 38.9 deg\n",
      "\n",
      "\tdeadtime fraction : 0.0%\n",
      "\n"
     ]
    }
   ],
   "source": [
    "selected_obs_table = selected_obs_table[:50]\n",
    "\n",
    "observations = data_store.get_observations(selected_obs_table[\"OBS_ID\"], skip_missing=True)\n",
    "\n",
    "print(f\"Selected observations: {len(observations)}\")\n",
    "print(f\"\\n\\nLet's have a look at the first observation \\n\\n: {observations[0]}\")"
   ]
  },
  {
   "cell_type": "markdown",
   "id": "dd5c4908-757a-4ad3-a710-0b6cb818e57b",
   "metadata": {},
   "source": [
    "6) Create the exclusion mask around the source region, as in the 3D analysis notebook:"
   ]
  },
  {
   "cell_type": "code",
   "execution_count": 10,
   "id": "5e50ab9f-cbe2-41a0-a87f-c49a3a0e1b68",
   "metadata": {},
   "outputs": [
    {
     "data": {
      "image/png": "[encoded data removed]",
      "text/plain": [
       "<Figure size 640x480 with 1 Axes>"
      ]
     },
     "metadata": {},
     "output_type": "display_data"
    }
   ],
   "source": [
    "exclusion_geom = WcsGeom.create(\n",
    "    skydir=(pointing.galactic.l.deg , pointing.galactic.b.deg),\n",
    "    binsz=0.01,\n",
    "    width=(5, 5),\n",
    "    frame=\"galactic\",\n",
    "    proj=\"CAR\",\n",
    "    # npix=(100, 100),\n",
    ")\n",
    "\n",
    "exclusion_src1 = CircleSkyRegion(\n",
    "    center=SkyCoord(166.113808, 38.2088329, unit=\"deg\", frame=\"icrs\"),\n",
    "    radius=0.2 * u.deg,\n",
    ")\n",
    "\n",
    "exclusion_mask = ~exclusion_geom.region_mask([exclusion_src1])\n",
    "\n",
    "exclusion_mask.plot()\n",
    "plt.show()"
   ]
  },
  {
   "cell_type": "markdown",
   "id": "09325626-8bf5-4970-8cd1-7dc4e68ae228",
   "metadata": {},
   "source": [
    "7) Define the reconstructed and true energy axes (with `MapAxis`) and the geometry (with `WcsGeom.create`), as in the 3D analysis notebook:"
   ]
  },
  {
   "cell_type": "code",
   "execution_count": 11,
   "id": "8a27b1db-aef1-4f00-84ee-8a33fb670193",
   "metadata": {},
   "outputs": [],
   "source": [
    "energy_axis = MapAxis.from_energy_bounds(\n",
    "    10, 1e5, nbin=10, unit=\"GeV\", name=\"energy\"\n",
    ")\n",
    "\n",
    "energy_axis_true = MapAxis.from_energy_bounds(\n",
    "    0.1, 1e5, nbin=20, unit=\"GeV\", name=\"energy_true\"\n",
    ")\n",
    "\n",
    "geom = WcsGeom.create(\n",
    "    skydir=(pointing.galactic.l.deg , pointing.galactic.b.deg),\n",
    "    binsz=0.01,\n",
    "    width=(5, 5),\n",
    "    frame=\"galactic\",\n",
    "    proj=\"CAR\",\n",
    "    # npix=(100, 100),\n",
    "    axes=[energy_axis],\n",
    ")"
   ]
  },
  {
   "cell_type": "markdown",
   "id": "e35b900c-8f41-4c44-a5db-b0c0aef26306",
   "metadata": {},
   "source": [
    "8) Create the MapDataset:"
   ]
  },
  {
   "cell_type": "code",
   "execution_count": 12,
   "id": "19434e2e-1d6a-42b3-928a-0efb6957fc1a",
   "metadata": {},
   "outputs": [],
   "source": [
    "stacked = MapDataset.create(\n",
    "    geom=geom, energy_axis_true=energy_axis_true, name=\"my-dataset\"\n",
    ")"
   ]
  },
  {
   "cell_type": "markdown",
   "id": "20b52f9b-d600-442d-8a3d-d2e6b263528d",
   "metadata": {},
   "source": [
    "9) Set the safe ranges with `MapDatasetMaker`, `SafeMaksMaker` and `FoVBackgroundMaker`:"
   ]
  },
  {
   "cell_type": "code",
   "execution_count": 13,
   "id": "b621174a-4666-4cf9-a6fe-4f6e877a28dc",
   "metadata": {},
   "outputs": [],
   "source": [
    "offset_max = 5 * u.deg\n",
    "maker = MapDatasetMaker()\n",
    "maker_safe_mask = SafeMaskMaker(\n",
    "    methods=[\"offset-max\", \"aeff-max\"], aeff_percent=10, offset_max=offset_max\n",
    ")\n",
    "\n",
    "maker_fov = FoVBackgroundMaker(method=\"fit\", exclusion_mask=exclusion_mask)"
   ]
  },
  {
   "cell_type": "markdown",
   "id": "b8fad824-053a-48ff-bbb7-6aecab663446",
   "metadata": {},
   "source": [
    "10) Loop over the observations to stack the datasets:"
   ]
  },
  {
   "cell_type": "code",
   "execution_count": 14,
   "id": "a3ed0be2-a2b6-4d5b-bc91-3e1953d122be",
   "metadata": {},
   "outputs": [
    {
     "name": "stdout",
     "output_type": "stream",
     "text": [
      "0 of 50, Background norm obs 5000000063: 1.07\n",
      "1 of 50, Background norm obs 5000000064: 1.10\n",
      "2 of 50, Background norm obs 5000000065: 1.09\n",
      "3 of 50, Background norm obs 5000000066: 1.09\n",
      "4 of 50, Background norm obs 5000000130: 1.10\n",
      "5 of 50, Background norm obs 5000000131: 1.08\n",
      "6 of 50, Background norm obs 5000000132: 1.09\n",
      "7 of 50, Background norm obs 5000000133: 1.12\n",
      "8 of 50, Background norm obs 5000000181: 1.10\n",
      "9 of 50, Background norm obs 5000000183: 1.06\n",
      "10 of 50, Background norm obs 5000000184: 1.06\n",
      "11 of 50, Background norm obs 5000000185: 1.08\n",
      "12 of 50, Background norm obs 5000000302: 1.06\n",
      "13 of 50, Background norm obs 5000000303: 1.04\n",
      "14 of 50, Background norm obs 5000000304: 1.07\n",
      "15 of 50, Background norm obs 5000000306: 1.05\n",
      "16 of 50, Background norm obs 5000000503: 1.09\n",
      "17 of 50, Background norm obs 5000000504: 1.06\n",
      "18 of 50, Background norm obs 5000000505: 1.06\n",
      "19 of 50, Background norm obs 5000000506: 1.06\n",
      "20 of 50, Background norm obs 5000000658: 1.07\n",
      "21 of 50, Background norm obs 5000000660: 1.09\n",
      "22 of 50, Background norm obs 5000000662: 1.08\n",
      "23 of 50, Background norm obs 5000000664: 1.07\n",
      "24 of 50, Background norm obs 5000000666: 1.10\n",
      "25 of 50, Background norm obs 5000000748: 1.07\n",
      "26 of 50, Background norm obs 5000000749: 1.06\n",
      "27 of 50, Background norm obs 5000000750: 1.04\n",
      "28 of 50, Background norm obs 5000000751: 1.05\n",
      "29 of 50, Background norm obs 5000000854: 1.01\n",
      "30 of 50, Background norm obs 5000000855: 1.06\n",
      "31 of 50, Background norm obs 5000000856: 1.07\n",
      "32 of 50, Background norm obs 5000000857: 1.06\n",
      "33 of 50, Background norm obs 5000001107: 1.07\n",
      "34 of 50, Background norm obs 5000001108: 1.05\n",
      "35 of 50, Background norm obs 5000001109: 1.04\n",
      "36 of 50, Background norm obs 5000001110: 1.08\n",
      "37 of 50, Background norm obs 5000001271: 1.10\n",
      "38 of 50, Background norm obs 5000001272: 0.95\n",
      "39 of 50, Background norm obs 5000001273: 1.05\n",
      "40 of 50, Background norm obs 5000001274: 1.06\n",
      "41 of 50, Background norm obs 5000001275: 1.03\n",
      "42 of 50, Background norm obs 5000001351: 1.06\n",
      "43 of 50, Background norm obs 5000001352: 1.05\n",
      "44 of 50, Background norm obs 5000001353: 1.06\n",
      "45 of 50, Background norm obs 5000001354: 1.07\n",
      "46 of 50, Background norm obs 5000001442: 1.07\n",
      "47 of 50, Background norm obs 5000001443: 1.05\n",
      "48 of 50, Background norm obs 5000001444: 1.08\n",
      "49 of 50, Background norm obs 5000001445: 1.04\n",
      "MapDataset\n",
      "----------\n",
      "\n",
      "  Name                            : my-dataset \n",
      "\n",
      "  Total counts                    : 206602 \n",
      "  Total background counts         : 191511.73\n",
      "  Total excess counts             : 15090.27\n",
      "\n",
      "  Predicted counts                : 191511.75\n",
      "  Predicted background counts     : 191511.73\n",
      "  Predicted excess counts         : nan\n",
      "\n",
      "  Exposure min                    : 7.66e+04 m2 s\n",
      "  Exposure max                    : 2.66e+10 m2 s\n",
      "\n",
      "  Number of total bins            : 2500000 \n",
      "  Number of fit bins              : 1750000 \n",
      "\n",
      "  Fit statistic type              : cash\n",
      "  Fit statistic value (-2 log(L)) : nan\n",
      "\n",
      "  Number of models                : 0 \n",
      "  Number of parameters            : 0\n",
      "  Number of free parameters       : 0\n",
      "\n",
      "\n"
     ]
    }
   ],
   "source": [
    "for i, obs in enumerate(observations):\n",
    "    # First a cutout of the target map is produced\n",
    "    cutout = stacked.cutout(\n",
    "        obs.get_pointing_icrs(obs.tmid), width=5 * offset_max, name=f\"obs-{obs.obs_id}\"\n",
    "    )\n",
    "    \n",
    "    # A MapDataset is filled in this cutout geometry\n",
    "    dataset = maker.run(cutout, obs)\n",
    "    \n",
    "    # The data quality cut is applied\n",
    "    dataset = maker_safe_mask.run(dataset, obs)\n",
    "    \n",
    "    # fit background model\n",
    "    dataset = maker_fov.run(dataset)\n",
    "    \n",
    "    print(\n",
    "        f\"{i} of {len(observations)}, Background norm obs {obs.obs_id}: {dataset.background_model.spectral_model.norm.value:.2f}\"\n",
    "    )\n",
    "    # The resulting dataset cutout is stacked onto the final one\n",
    "    stacked.stack(dataset)\n",
    "\n",
    "print(stacked)"
   ]
  },
  {
   "cell_type": "markdown",
   "id": "61b13665-9723-4439-a7d4-696040144b13",
   "metadata": {},
   "source": [
    "11) Make a counts map:"
   ]
  },
  {
   "cell_type": "code",
   "execution_count": 15,
   "id": "72542ba0-69f5-4e67-9e1e-29f625b87b85",
   "metadata": {},
   "outputs": [
    {
     "data": {
      "image/png": "[encoded data removed]",
      "text/plain": [
       "<Figure size 640x480 with 2 Axes>"
      ]
     },
     "metadata": {},
     "output_type": "display_data"
    }
   ],
   "source": [
    "stacked.counts.sum_over_axes().smooth(0.04 * u.deg).plot(stretch=\"sqrt\", add_cbar=True)\n",
    "plt.show()"
   ]
  },
  {
   "cell_type": "markdown",
   "id": "6fe47725-1bd0-4a8d-b621-4368ecaf2b3c",
   "metadata": {},
   "source": [
    "# Make a lightcurve\n",
    "\n",
    "12) To build a lightcurve, you should firstly define the time bin where the lightcurve has to be estimated. We give you the hints on how to create them but, please, for more details look at the Gammapy tutorial:"
   ]
  },
  {
   "cell_type": "code",
   "execution_count": 20,
   "id": "c98f2981-77e6-4a97-b321-e1f090e91c8d",
   "metadata": {},
   "outputs": [],
   "source": [
    "# define the time intervals, splitting the full observation time range in bins of 2 hr:\n",
    "t0 = observations[0].tstart\n",
    "tstop = observations[-1].tstop\n",
    "duration = 7200 * u.s #choose a good duration with units\n",
    "n_time_bins = int( ((tstop-t0)).to(\"s\") / duration) + 10\n",
    "times = t0 + np.arange(n_time_bins) * duration\n",
    "time_intervals = [Time([tstart, tstop]) for tstart, tstop in zip(times[:-1], times[1:])]"
   ]
  },
  {
   "cell_type": "markdown",
   "id": "3f7fef98-0e64-456e-9310-5cfcbb601ea0",
   "metadata": {},
   "source": [
    "13) Filter all the observations that satisfy the temporal requirements using the `select_time` function:"
   ]
  },
  {
   "cell_type": "code",
   "execution_count": 26,
   "id": "65ac0a4a-0565-4761-8402-57a6d1d4c7a4",
   "metadata": {},
   "outputs": [
    {
     "data": {
      "text/plain": [
       "\u001b[0;31mSignature:\u001b[0m \u001b[0mobservations\u001b[0m\u001b[0;34m.\u001b[0m\u001b[0mselect_time\u001b[0m\u001b[0;34m(\u001b[0m\u001b[0mtime_intervals\u001b[0m\u001b[0;34m)\u001b[0m\u001b[0;34m\u001b[0m\u001b[0;34m\u001b[0m\u001b[0m\n",
       "\u001b[0;31mDocstring:\u001b[0m\n",
       "Select a time interval of the observations.\n",
       "\n",
       "Parameters\n",
       "----------\n",
       "time_intervals : `astropy.time.Time` or list of `astropy.time.Time`\n",
       "    List of start and stop time of the time intervals or one time interval.\n",
       "\n",
       "Returns\n",
       "-------\n",
       "new_observations : `~gammapy.data.Observations`\n",
       "    A new Observations instance of the specified time intervals.\n",
       "\u001b[0;31mFile:\u001b[0m      ~/opt/anaconda3/envs/gammapy-1.2/lib/python3.10/site-packages/gammapy/data/observations.py\n",
       "\u001b[0;31mType:\u001b[0m      method"
      ]
     },
     "metadata": {},
     "output_type": "display_data"
    }
   ],
   "source": [
    "observations.select_time?"
   ]
  },
  {
   "cell_type": "code",
   "execution_count": 27,
   "id": "93f11fba-28b1-448f-9b17-355a34f97c96",
   "metadata": {},
   "outputs": [
    {
     "data": {
      "text/plain": [
       "<gammapy.data.observations.Observations at 0x16bd647c0>"
      ]
     },
     "execution_count": 27,
     "metadata": {},
     "output_type": "execute_result"
    }
   ],
   "source": [
    "observations"
   ]
  },
  {
   "cell_type": "code",
   "execution_count": 30,
   "id": "0e75f426-859d-4f81-b6e6-64b0be838605",
   "metadata": {},
   "outputs": [
    {
     "name": "stdout",
     "output_type": "stream",
     "text": [
      "Number of observations after time filtering: 52\n",
      "\n",
      "GTI info:\n",
      "- Number of GTIs: 1\n",
      "- Duration: 450.0000002095476 s\n",
      "- Start: 883894351.174 s MET\n",
      "- Start: 2028-01-04T06:11:21.990 (time standard: UTC)\n",
      "- Stop: 883894801.1740001 s MET\n",
      "- Stop: 2028-01-04T06:18:51.990 (time standard: UTC)\n",
      "\n"
     ]
    }
   ],
   "source": [
    "short_observations = observations.select_time(time_intervals)\n",
    "\n",
    "# check that observations have been filtered\n",
    "print(f\"Number of observations after time filtering: {len(short_observations)}\\n\")\n",
    "print(short_observations[1].gti)"
   ]
  },
  {
   "cell_type": "markdown",
   "id": "73664fa9-f498-4e68-acfc-7b49d1fd8623",
   "metadata": {},
   "source": [
    "14) Create the energy axes (reco and true) and perform an 1D spectral analysis of the source. In this case, we will adopt the reflected region method:"
   ]
  },
  {
   "cell_type": "code",
   "execution_count": 31,
   "id": "98f34b17-04b2-47e8-ba21-e701ec57fce0",
   "metadata": {},
   "outputs": [],
   "source": [
    "# Target definition\n",
    "energy_axis = MapAxis.from_energy_bounds(\n",
    "    10, 1e5, nbin=10, unit=\"GeV\", name=\"energy\"\n",
    ")\n",
    "energy_axis_true = MapAxis.from_energy_bounds(\n",
    "    0.1, 1e5, nbin=20, unit=\"GeV\", name=\"energy_true\"\n",
    ")\n",
    "\n",
    "on_region_radius = Angle(\"0.11 deg\")\n",
    "on_region = CircleSkyRegion(center=target, radius=on_region_radius)\n",
    "\n",
    "geom = WcsGeom.create(\n",
    "    skydir=(pointing.galactic.l.deg , pointing.galactic.b.deg),\n",
    "    binsz=0.01,\n",
    "    width=(5, 5),\n",
    "    frame=\"galactic\",\n",
    "    proj=\"CAR\",\n",
    "    # npix=(100, 100),\n",
    "    axes=[energy_axis],\n",
    ")"
   ]
  },
  {
   "cell_type": "markdown",
   "id": "e6414fa0-1989-4685-9c62-746c36b08d44",
   "metadata": {},
   "source": [
    "15) Set the safe ranges with the `SafeMaskMaker` class, produce the reflected regions with `ReflectedRegionsBackgroundMaker` and make the `SpectrumDataset`:"
   ]
  },
  {
   "cell_type": "code",
   "execution_count": 35,
   "id": "dfe154af-a615-4d9c-bfc6-61ed0d7af992",
   "metadata": {},
   "outputs": [],
   "source": [
    "# ReflectedRegionsBackgroundMaker?"
   ]
  },
  {
   "cell_type": "code",
   "execution_count": 36,
   "id": "780732fd-22b0-4e35-ba3a-1603868e5de9",
   "metadata": {},
   "outputs": [],
   "source": [
    "# SpectrumDataset?"
   ]
  },
  {
   "cell_type": "code",
   "execution_count": 33,
   "id": "6792bae1-bdbf-420a-9c26-f823a72d1f98",
   "metadata": {},
   "outputs": [],
   "source": [
    "dataset_maker = MapDatasetMaker()\n",
    "\n",
    "bkg_maker = ReflectedRegionsBackgroundMaker(on_region, exclusion_mask)\n",
    "\n",
    "safe_mask_masker = SafeMaskMaker(\n",
    "    methods=[\"offset-max\", \"aeff-max\"], aeff_percent=10, offset_max=offset_max\n",
    ")"
   ]
  },
  {
   "cell_type": "markdown",
   "id": "e92a5dcb-ab88-4d25-9e5f-b80c4e066ed0",
   "metadata": {},
   "source": [
    "16) Create the `Datasets` for each observation and stack them:"
   ]
  },
  {
   "cell_type": "code",
   "execution_count": null,
   "id": "267ad38a-9053-4aed-ada3-799892a6b79c",
   "metadata": {},
   "outputs": [],
   "source": [
    "datasets = Datasets()\n",
    "\n",
    "dataset_empty = []\n",
    "\n",
    "for obs in short_observations:\n",
    "    dataset = \n",
    "\n",
    "    dataset_on_off = \n",
    "    dataset_on_off = \n",
    "    datasets.append(dataset_on_off)"
   ]
  },
  {
   "cell_type": "markdown",
   "id": "27b1d83f-8e2d-4d76-b155-e74085db2e61",
   "metadata": {},
   "source": [
    "16) Define a spectral model with `PowerLawSpectralModel`. First fit the spectral model on the global stacked dataset, then use the model as the fixed best-one."
   ]
  },
  {
   "cell_type": "code",
   "execution_count": null,
   "id": "1c3b50bc-cd75-4a22-9e2f-e0f3faf831d4",
   "metadata": {},
   "outputs": [],
   "source": [
    "spectral_model = \n",
    "spectral_model.parameters... \n",
    "\n",
    "sky_model = "
   ]
  },
  {
   "cell_type": "markdown",
   "id": "057fb2b1-79db-4dd8-9aba-c0a76d411269",
   "metadata": {},
   "source": [
    "17) Associate the sky-model to the datasets:"
   ]
  },
  {
   "cell_type": "code",
   "execution_count": null,
   "id": "295592e4-df9b-487c-84ad-74db8f4e4324",
   "metadata": {},
   "outputs": [],
   "source": [
    "datasets.models = sky_model"
   ]
  },
  {
   "cell_type": "code",
   "execution_count": null,
   "id": "a8ab4247-a4da-4b35-a5bf-da3c5f1966b0",
   "metadata": {},
   "outputs": [],
   "source": []
  },
  {
   "cell_type": "markdown",
   "id": "44e90182-e71f-41bc-a332-973afc23ab8a",
   "metadata": {},
   "source": [
    "18) Make the lightcurve in two energy bands. Is the source spectrally varying?\n",
    "    Make the lightcurve over the time bins defined above for `MRK 421`, using the Gammapy class `LightCurveEstimator`:"
   ]
  },
  {
   "cell_type": "code",
   "execution_count": null,
   "id": "d9740d4b-16bd-48e1-b905-dec05904f866",
   "metadata": {},
   "outputs": [],
   "source": [
    "lc_maker_1d = \n",
    "\n",
    "lc_maker_1d.norm.scan_max = 10\n",
    "\n",
    "lc_1d = "
   ]
  },
  {
   "cell_type": "markdown",
   "id": "989688f1-05d1-4e49-84e0-149f8d20842d",
   "metadata": {},
   "source": [
    "19) Plot the lightcurve:"
   ]
  },
  {
   "cell_type": "markdown",
   "id": "503b44e1-d997-4068-b29b-288019c5d33f",
   "metadata": {},
   "source": [
    "20) Try to correct for the EBL (assuming the known redshift of MRK 421)."
   ]
  },
  {
   "cell_type": "code",
   "execution_count": null,
   "id": "2ff4cc84-65eb-4cd4-bfe1-e601a9391304",
   "metadata": {},
   "outputs": [],
   "source": []
  },
  {
   "cell_type": "markdown",
   "id": "cadf1379-da2f-479e-a11c-ed729df3e6ec",
   "metadata": {},
   "source": []
  },
  {
   "cell_type": "code",
   "execution_count": null,
   "id": "3cd0b765-846e-4ddf-854c-2ce6c301a5a1",
   "metadata": {},
   "outputs": [],
   "source": []
  }
 ],
 "metadata": {
  "kernelspec": {
   "display_name": "Python 3 (ipykernel)",
   "language": "python",
   "name": "python3"
  },
  "language_info": {
   "codemirror_mode": {
    "name": "ipython",
    "version": 3
   },
   "file_extension": ".py",
   "mimetype": "text/x-python",
   "name": "python",
   "nbconvert_exporter": "python",
   "pygments_lexer": "ipython3",
   "version": "3.10.14"
  }
 },
 "nbformat": 4,
 "nbformat_minor": 5
}
